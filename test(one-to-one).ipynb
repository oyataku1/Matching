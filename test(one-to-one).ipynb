{
 "cells": [
  {
   "cell_type": "markdown",
   "metadata": {},
   "source": [
    "三ツ國　one to one"
   ]
  },
  {
   "cell_type": "code",
   "execution_count": 6,
   "metadata": {
    "collapsed": false
   },
   "outputs": [
    {
     "name": "stdout",
     "output_type": "stream",
     "text": [
      "Test Summary:                  | Pass  Total\n",
      "Testing deferred_acceptance.jl |    4      4\n"
     ]
    },
    {
     "name": "stderr",
     "output_type": "stream",
     "text": [
      "WARNING: redefining constant file_name\n",
      "WARNING: redefining constant function_name\n"
     ]
    },
    {
     "data": {
      "text/plain": [
       "BaseTestNext.DefaultTestSet(\"Testing deferred_acceptance.jl\",Any[BaseTestNext.DefaultTestSet(\"deferred_acceptance\",Any[Test Passed\n",
       "  Expression: m_matched_computed == m_matched_expected\n",
       "   Evaluated: [1,2,3,0] == [1,2,3,0],Test Passed\n",
       "  Expression: f_matched_computed == f_matched_expected\n",
       "   Evaluated: [1,2,3] == [1,2,3],Test Passed\n",
       "  Expression: m_matched_computed == m_matched_expected\n",
       "   Evaluated: [1,2,3,0] == [1,2,3,0],Test Passed\n",
       "  Expression: f_matched_computed == f_matched_expected\n",
       "   Evaluated: [1,2,3] == [1,2,3]],false)],false)"
      ]
     },
     "execution_count": 6,
     "metadata": {},
     "output_type": "execute_result"
    }
   ],
   "source": [
    "include(\"test_deferred_acceptance.jl\")"
   ]
  },
  {
   "cell_type": "code",
   "execution_count": null,
   "metadata": {
    "collapsed": true
   },
   "outputs": [],
   "source": [
    "function deferred_acceptance(m_prefs, f_prefs)\n",
    "    \n",
    "    m_num = length(m_prefs[1, :])#4\n",
    "    f_num = length(f_prefs[1, :])#3 男４女３のケース\n",
    "    singlemale = [i for i in 1:m_num] #[1,2,3,4]番がsingle\n",
    "    m_unmatched = 0#自分とマッチの状態と定義\n",
    "    f_unmatched = 0\n",
    "    \n",
    "    m_matched = [0 for i in 1:m_num]#[0,0,0,0]\n",
    "    f_matched = [0 for i in 1:f_num]#[0,0,0] マッチしているのは自分\n",
    "    \n",
    "    target = [1 for i in 1:m_num]#[1,1,1,1] 各人が自分の第何希望の相手にプロポーズするか　はじめはみんな第一希望にプロポーズ\n",
    "    \n",
    "    while length(singlemale)>0#singleの男性がいなくなれば終了\n",
    "        x = shift!(singlemale)#singlemaleの初項 singleの要素は削除されていく　男の番号\n",
    "        y = m_prefs[:, x][target[x]]#男[x]の次に告白する相手＝女性y\n",
    "        \n",
    "        if y == 0#f_matched[y]を使っているのでyが0だとindexが取り出せない　告白相手が自分\n",
    "            m_matched[x]=0\n",
    "            \n",
    "        else#告白相手が自分以外\n",
    "            if f_matched[y] == 0#女性yの相手が自分自身の時\n",
    "                if findfirst(f_prefs[:, y],f_matched[y])<findfirst(f_prefs[:, y],x)#現在のマッチ＞告白してきたx\n",
    "                    push!(singlemale, x)#xをsinglemaleに戻す\n",
    "                    target[x]+=1#次に好きな相手にtargetを変更\n",
    "                else##今の相手<新たな男  ＝新たな男xとマッチするほうがいい f_matched[y] == 0なので捨てられる男はいない\n",
    "                    f_matched[y]=x\n",
    "                    m_matched[x]=y#新しいマッチに変更\n",
    "                end\n",
    "        \n",
    "            else#女性に相手誰かしらのマッチ相手がいる場合\n",
    "                if findfirst(f_prefs[:, y],f_matched[y])<findfirst(f_prefs[:, y],x)#現在のマッチ＞告白してきたx\n",
    "                    push!(singlemale, x)#xをsinglemaleに戻す\n",
    "                    target[x]+=1#次に好きな相手にtargetを変更\n",
    "                else#今の相手<新たな男  ＝新たな男xとマッチするほうがいい\n",
    "                    push!(singlemale, f_matched[y])#捨てられる男をsingleに戻す\n",
    "                    m_matched[f_matched[y]]=0#捨てられた男は初期状態の自分とマッチに戻す\n",
    "                    f_matched[y]=x\n",
    "                    m_matched[x]=y#新しいマッチに変更\n",
    "                end\n",
    "            end    \n",
    "        end\n",
    "    end\n",
    "    return m_matched, f_matched\n",
    "end\n",
    "\n",
    "\n"
   ]
  }
 ],
 "metadata": {
  "kernelspec": {
   "display_name": "Julia 0.4.5",
   "language": "julia",
   "name": "julia-0.4"
  },
  "language_info": {
   "file_extension": ".jl",
   "mimetype": "application/julia",
   "name": "julia",
   "version": "0.4.5"
  }
 },
 "nbformat": 4,
 "nbformat_minor": 0
}

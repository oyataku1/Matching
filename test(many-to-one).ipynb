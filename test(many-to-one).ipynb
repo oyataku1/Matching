{
 "cells": [
  {
   "cell_type": "markdown",
   "metadata": {},
   "source": [
    "三ツ國　one to many"
   ]
  },
  {
   "cell_type": "code",
   "execution_count": 5,
   "metadata": {
    "collapsed": false
   },
   "outputs": [
    {
     "name": "stdout",
     "output_type": "stream",
     "text": [
      "Test Summary:                  | Pass  Total\n",
      "Testing deferred_acceptance.jl |   10     10\n"
     ]
    },
    {
     "name": "stderr",
     "output_type": "stream",
     "text": [
      "WARNING: redefining constant file_name\n",
      "WARNING: redefining constant function_name\n"
     ]
    },
    {
     "data": {
      "text/plain": [
       "BaseTestNext.DefaultTestSet(\"Testing deferred_acceptance.jl\",Any[BaseTestNext.DefaultTestSet(\"deferred_acceptance: one-to-one\",Any[Test Passed\n",
       "  Expression: m_matched_computed == m_matched_expected\n",
       "   Evaluated: [1,2,3,0] == [1,2,3,0],Test Passed\n",
       "  Expression: f_matched_computed == f_matched_expected\n",
       "   Evaluated: [1,2,3] == [1,2,3],Test Passed\n",
       "  Expression: m_matched_computed == m_matched_expected\n",
       "   Evaluated: [1,2,3,0] == [1,2,3,0],Test Passed\n",
       "  Expression: f_matched_computed == f_matched_expected\n",
       "   Evaluated: [1,2,3] == [1,2,3]],false),BaseTestNext.DefaultTestSet(\"deferred_acceptance: many-to-one with caps 1\",Any[Test Passed\n",
       "  Expression: m_matched_computed == m_matched_expected\n",
       "   Evaluated: [1,2,3,0] == [1,2,3,0],Test Passed\n",
       "  Expression: f_matched_computed == f_matched_expected\n",
       "   Evaluated: [1,2,3] == [1,2,3],Test Passed\n",
       "  Expression: indptr_computed == indptr_expected\n",
       "   Evaluated: [1,2,3,4] == [1,2,3,4]],false),BaseTestNext.DefaultTestSet(\"deferred_acceptance: many-to-one\",Any[Test Passed\n",
       "  Expression: s_matched_computed == s_matched_expected\n",
       "   Evaluated: [3,1,4,3,1,3,2,1,4,1,5] == [3,1,4,3,1,3,2,1,4,1,5],Test Passed\n",
       "  Expression: indptr_computed == indptr_expected\n",
       "   Evaluated: [1,5,6,9,11,12] == [1,5,6,9,11,12],Test Passed\n",
       "  Expression: c_matched_computed == c_matched_expected\n",
       "   Evaluated: [2,5,8,10,7,1,4,6,3,9,11] == [2,5,8,10,7,1,4,6,3,9,11]],false)],false)"
      ]
     },
     "execution_count": 5,
     "metadata": {},
     "output_type": "execute_result"
    }
   ],
   "source": [
    "include(\"test_deferred_acceptance.jl\")"
   ]
  },
  {
   "cell_type": "code",
   "execution_count": null,
   "metadata": {
    "collapsed": true
   },
   "outputs": [],
   "source": [
    "# 多対一のケース\n",
    "function deferred_acceptance(s_prefs::Matrix{Int},\n",
    "                             c_prefs::Matrix{Int},\n",
    "                             caps::Vector{Int})\n",
    "    \n",
    "    s_num = length(s_prefs[1, :])#4\n",
    "    c_num = length(c_prefs[1, :])#3 男４女３のケース\n",
    "    freestudent = [i for i in 1:s_num] #[1,2,3,4]番がsingle\n",
    "    s_unmatched = 0#自分とマッチの状態と定義\n",
    "    c_unmatched = 0\n",
    "    \n",
    "    s_matched = [0 for i in 1:s_num]#[0,0,0,0]\n",
    "    c_matched = [0 for i in 1:sum(caps)]#[0,0,0..] マッチしているのは自分\n",
    "    target = [1 for i in 1:s_num]#[1,1,1,1] 各人が自分の第何希望の相手にプロポーズするか　はじめはみんな第一希望にプロポーズ\n",
    "    \n",
    "    n=length(c_prefs[1, :])\n",
    "    indptr = Array(Int, n+1)\n",
    "    indptr[1] = 1\n",
    "    for i in 1:n\n",
    "        indptr[i+1] = indptr[i] + caps[i]\n",
    "    end\n",
    "\n",
    "    \n",
    "    while length(freestudent)>0#freeの学生がいなくなれば終了\n",
    "        x = shift!(freestudent)#freestudentの初項 freestudentの要素は削除されていく　学生の番号\n",
    "        y = s_prefs[:, x][target[x]]#学生[x]の次にトライする相手＝大学y\n",
    "        \n",
    "        \n",
    "        if y == 0#f_matched[y]を使っているのでyが0だとindexが取り出せない　告白相手が自分\n",
    "            s_matched[x]=0\n",
    "            \n",
    "        elseif y==1\n",
    "            c_matched[indptr[y]:indptr[y+1]-1]#大学yのマッチ\n",
    "            mathched_pref=[findfirst(c_prefs[:, y],c_matched[indptr[y]:indptr[y+1]-1][i]) for i in 1:caps[y]]#大学yのマッチを選好の順位に変換した配列\n",
    "            maximum(mathched_pref)#現在のマッチで最低の学生の順位\n",
    "            worststudent=c_matched[indptr[y]:indptr[y+1]-1][findfirst(mathched_pref,maximum(mathched_pref))]#マッチの中で一番評価の低い学生の番号\n",
    "            if worststudent == 0#女性yの相手が自分自身の時\n",
    "                if findfirst(c_prefs[:, y],worststudent)<findfirst(c_prefs[:, y],x)#現在のマッチ＞告白してきたx\n",
    "                    push!(freestudent, x)#xをsinglemaleに戻す\n",
    "                    target[x]+=1#次に好きな相手にtargetを変更\n",
    "                else##今の相手<新たな男  ＝新たな男xとマッチするほうがいい f_matched[y] == 0なので捨てられる男はいない\n",
    "                    c_matched[findfirst(c_matched[indptr[y]:indptr[y+1]-1],0)]=x\n",
    "                    s_matched[x]=y#新しいマッチに変更\n",
    "                end\n",
    "            else#女性に相手誰かしらのマッチ相手がいる場合\n",
    "                if findfirst(c_prefs[:, y],worststudent)<findfirst(c_prefs[:, y],x)#現在のマッチ＞告白してきたx\n",
    "                    push!(freestudent, x)#xをsinglemaleに戻す\n",
    "                    target[x]+=1#次に好きな相手にtargetを変更\n",
    "                else#今の相手<新たな男  ＝新たな男xとマッチするほうがいい\n",
    "                    push!(freestudent, worststudent)#捨てられる男をsingleに戻す\n",
    "                    s_matched[worststudent]=0#捨てられた男は初期状態の自分とマッチに戻す\n",
    "                    c_matched[findfirst(c_matched,worststudent)]=x\n",
    "                    s_matched[x]=y#新しいマッチに変更\n",
    "                end\n",
    "            end    \n",
    "            \n",
    "        else#告白相手が自分以外、相手の選好を扱う\n",
    "            c_matched[indptr[y]:indptr[y+1]-1]#大学yのマッチ\n",
    "            mathched_pref=[findfirst(c_prefs[:, y],c_matched[indptr[y]:indptr[y+1]-1][i]) for i in 1:caps[y]]#大学yのマッチを選好の順位に変換した配列\n",
    "            maximum(mathched_pref)#現在のマッチで最低の学生の順位\n",
    "            worststudent=c_matched[indptr[y]:indptr[y+1]-1][findfirst(mathched_pref,maximum(mathched_pref))]#マッチの中で一番評価の低い学生の番号\n",
    "            if worststudent == 0#女性yの相手が自分自身の時\n",
    "                if findfirst(c_prefs[:, y],worststudent)<findfirst(c_prefs[:, y],x)#現在のマッチ＞告白してきたx\n",
    "                    push!(freestudent, x)#xをsinglemaleに戻す\n",
    "                    target[x]+=1#次に好きな相手にtargetを変更\n",
    "                else##今の相手<新たな男  ＝新たな男xとマッチするほうがいい f_matched[y] == 0なので捨てられる男はいない\n",
    "                    c_matched[sum(caps[1:y-1])+findfirst(c_matched[indptr[y]:indptr[y+1]-1],0)]=x\n",
    "                    s_matched[x]=y#新しいマッチに変更\n",
    "                end\n",
    "        \n",
    "            else#女性に相手誰かしらのマッチ相手がいる場合\n",
    "                if findfirst(c_prefs[:, y],worststudent)<findfirst(c_prefs[:, y],x)#現在のマッチ＞告白してきたx\n",
    "                    push!(freestudent, x)#xをsinglemaleに戻す\n",
    "                    target[x]+=1#次に好きな相手にtargetを変更\n",
    "                else#今の相手<新たな男  ＝新たな男xとマッチするほうがいい\n",
    "                    push!(freestudent, worststudent)#捨てられる男をsingleに戻す\n",
    "                    s_matched[worststudent]=0#捨てられた男は初期状態の自分とマッチに戻す\n",
    "                    c_matched[findfirst(c_matched,worststudent)]=x\n",
    "                    s_matched[x]=y#新しいマッチに変更\n",
    "                end\n",
    "            end    \n",
    "        end\n",
    "    end\n",
    "    return s_matched, c_matched,indptr\n",
    "end\n",
    "\n",
    "\n",
    "# 一対一のケース\n",
    "function deferred_acceptance(s_prefs::Matrix{Int}, c_prefs::Matrix{Int})\n",
    "    caps = ones(Int, size(c_prefs, 2))\n",
    "    s_matched, c_matched, indptr =\n",
    "    deferred_acceptance(s_prefs, c_prefs, caps)\n",
    "    return s_matched, c_matched\n",
    "end"
   ]
  }
 ],
 "metadata": {
  "kernelspec": {
   "display_name": "Julia 0.4.5",
   "language": "julia",
   "name": "julia-0.4"
  },
  "language_info": {
   "file_extension": ".jl",
   "mimetype": "application/julia",
   "name": "julia",
   "version": "0.4.5"
  }
 },
 "nbformat": 4,
 "nbformat_minor": 0
}
